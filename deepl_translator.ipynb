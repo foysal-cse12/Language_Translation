{
 "cells": [
  {
   "cell_type": "code",
   "execution_count": 3,
   "id": "c0cb4f59-d420-4e81-8c05-5a1431f6d6a8",
   "metadata": {},
   "outputs": [],
   "source": [
    "#!pip install --upgrade deepl\n",
    "#!pip install deepl"
   ]
  },
  {
   "cell_type": "code",
   "execution_count": 4,
   "id": "0c5044d2-662b-4f5e-b626-1aa5d6b8dda9",
   "metadata": {},
   "outputs": [],
   "source": [
    "#################################################################"
   ]
  },
  {
   "cell_type": "code",
   "execution_count": 2,
   "id": "ed186894-90aa-46e2-9289-a4ef467b9593",
   "metadata": {},
   "outputs": [],
   "source": [
    "import os\n",
    "import pandas as pd\n",
    "from deepl import Translator"
   ]
  },
  {
   "cell_type": "code",
   "execution_count": 4,
   "id": "92a20452-36f3-4111-9574-d01080bae1a1",
   "metadata": {},
   "outputs": [],
   "source": [
    "\n",
    "\n",
    "# Load DeepL API key from environment variable\n",
    "auth_key = \"\" #os.environ['']\n",
    "dl_translator = Translator(auth_key)\n",
    "\n",
    "\n"
   ]
  },
  {
   "cell_type": "code",
   "execution_count": 5,
   "id": "96ad542f-955d-4e1d-ba0a-cbcf681d3a95",
   "metadata": {},
   "outputs": [],
   "source": [
    "# Function to translate a single text\n",
    "def translate_text(text, target_lang=\"DE\"):\n",
    "    return dl_translator.translate_text(text, target_lang=target_lang).text\n",
    "\n",
    "# Function to translate both columns in the dataset\n",
    "def translate_columns(row):\n",
    "    return pd.Series({\n",
    "        \"complex_text_de\": translate_text(row[\"complex_text\"], target_lang=\"DE\"),\n",
    "        \"simplified_text_de\": translate_text(row[\"simplified_text\"], target_lang=\"DE\"),\n",
    "    })\n",
    "\n",
    "# Load the dataset\n",
    "#input_csv_path = \"input.csv\"  # Replace with your input file path\n",
    "#output_csv_path = \"translated_output.csv\"  # Replace with your output file path\n",
    "\n",
    "\n",
    "\n"
   ]
  },
  {
   "cell_type": "code",
   "execution_count": 13,
   "id": "5d4e25fa-327d-4618-bddc-f0d32d691fd9",
   "metadata": {},
   "outputs": [],
   "source": [
    "dataset = pd.read_csv(r'D:\\text simplification\\dataset\\medical data\\simplified_text_med_dataset_cleaned.csv',sep = ',')\n",
    "\n"
   ]
  },
  {
   "cell_type": "code",
   "execution_count": 14,
   "id": "d3efa250-d3d0-4ac0-ba76-92d4379bf1dd",
   "metadata": {},
   "outputs": [
    {
     "data": {
      "text/plain": [
       "724"
      ]
     },
     "execution_count": 14,
     "metadata": {},
     "output_type": "execute_result"
    }
   ],
   "source": [
    "dataset.head()\n",
    "len(dataset)"
   ]
  },
  {
   "cell_type": "code",
   "execution_count": 15,
   "id": "2af3802d-e51b-47a3-9b79-96df63f896f2",
   "metadata": {},
   "outputs": [],
   "source": [
    "# Apply translation to each row\n",
    "translated_dataset = dataset.apply(translate_columns, axis=1)"
   ]
  },
  {
   "cell_type": "code",
   "execution_count": 16,
   "id": "915adff0-2dfc-437b-aa10-d8e3dacc1716",
   "metadata": {},
   "outputs": [
    {
     "data": {
      "text/html": [
       "<div>\n",
       "<style scoped>\n",
       "    .dataframe tbody tr th:only-of-type {\n",
       "        vertical-align: middle;\n",
       "    }\n",
       "\n",
       "    .dataframe tbody tr th {\n",
       "        vertical-align: top;\n",
       "    }\n",
       "\n",
       "    .dataframe thead th {\n",
       "        text-align: right;\n",
       "    }\n",
       "</style>\n",
       "<table border=\"1\" class=\"dataframe\">\n",
       "  <thead>\n",
       "    <tr style=\"text-align: right;\">\n",
       "      <th></th>\n",
       "      <th>complex_text_de</th>\n",
       "      <th>simplified_text_de</th>\n",
       "    </tr>\n",
       "  </thead>\n",
       "  <tbody>\n",
       "    <tr>\n",
       "      <th>0</th>\n",
       "      <td>Eine kontrollierte Studie zum Vergleich von Vi...</td>\n",
       "      <td>Eine Studie über zwei Medikamente für Babys mi...</td>\n",
       "    </tr>\n",
       "    <tr>\n",
       "      <th>1</th>\n",
       "      <td>Immunhistochemischer Nachweis von P-Glykoprote...</td>\n",
       "      <td>Wir untersuchten einige Krebszellen aus der Ge...</td>\n",
       "    </tr>\n",
       "    <tr>\n",
       "      <th>2</th>\n",
       "      <td>Akute-Phase-Reaktanten und Risiko einer bakter...</td>\n",
       "      <td>Ziel der Studie: Wir wollten herausfinden, ob ...</td>\n",
       "    </tr>\n",
       "    <tr>\n",
       "      <th>3</th>\n",
       "      <td>Nierenersatztherapie bei Diabetikern in Newcas...</td>\n",
       "      <td>Von 1964 bis 1988 halfen Ärzte in Newcastle un...</td>\n",
       "    </tr>\n",
       "    <tr>\n",
       "      <th>4</th>\n",
       "      <td>Klärung der Verwirrtheit: die Verwirrtheitsbew...</td>\n",
       "      <td>A New Way to Check for Confusion, Wir wollten ...</td>\n",
       "    </tr>\n",
       "  </tbody>\n",
       "</table>\n",
       "</div>"
      ],
      "text/plain": [
       "                                     complex_text_de  \\\n",
       "0  Eine kontrollierte Studie zum Vergleich von Vi...   \n",
       "1  Immunhistochemischer Nachweis von P-Glykoprote...   \n",
       "2  Akute-Phase-Reaktanten und Risiko einer bakter...   \n",
       "3  Nierenersatztherapie bei Diabetikern in Newcas...   \n",
       "4  Klärung der Verwirrtheit: die Verwirrtheitsbew...   \n",
       "\n",
       "                                  simplified_text_de  \n",
       "0  Eine Studie über zwei Medikamente für Babys mi...  \n",
       "1  Wir untersuchten einige Krebszellen aus der Ge...  \n",
       "2  Ziel der Studie: Wir wollten herausfinden, ob ...  \n",
       "3  Von 1964 bis 1988 halfen Ärzte in Newcastle un...  \n",
       "4  A New Way to Check for Confusion, Wir wollten ...  "
      ]
     },
     "execution_count": 16,
     "metadata": {},
     "output_type": "execute_result"
    }
   ],
   "source": [
    "translated_dataset.head()"
   ]
  },
  {
   "cell_type": "code",
   "execution_count": 18,
   "id": "1f54a844-b8a4-4dda-a481-94cff3e72436",
   "metadata": {},
   "outputs": [
    {
     "data": {
      "text/plain": [
       "'Anomalien der von Willebrand-Faktor-Multimere bei thrombotischer thrombozytopenischer Purpura und hämolytisch-urämischem Syndrom. ZIEL: Analyse und Überprüfung der von Willebrand-Faktor (vWF)-Multimermuster bei Patienten mit einmaliger thrombotischer thrombozytopenischer Purpura (TTP), intermittierender TTP (Schübe in unregelmäßigen Abständen), chronisch-rezidivierender TTP (Schübe in regelmäßigen Abständen) und hämolytisch-urämischem Syndrom (HUS). PATIENTEN UND METHODEN: Thrombozytenarme Plasmaproben wurden in EDTA-Zitrat oder Zitrat-Hirudin-Aprotinin-Leupeptin von 36 Patienten mit einmaliger TTP, acht Patienten mit intermittierender TTP, vier Patienten mit chronisch rezidivierender TTP und 26 Patienten mit HUS gewonnen. Die Proben wurden mittels Natriumdodecylsulfat-Agarose-Gelelektrophorese aufgetrennt, mit Kaninchen-125I-Anti-human-vWF-IgG beschichtet und mittels Autoradiographie analysiert. ERGEBNISSE: Abnormalitäten von vWF-Multimeren wurden in plättchenarmen Plasmaproben von 31 von 36 Patienten (86 %) zu Beginn und während ihrer einzigen TTP-Episode gefunden. vWF-Multimere, die größer sind als die in normalem Plasma und den in normalen menschlichen Endothelzellen beobachteten vWF-Formen ähneln (ungewöhnlich große vWF-Multimere), wurden bei 31 % der Patienten nachgewiesen; 19 % hatten entweder ungewöhnlich große vWF-Multimere oder eine relative Abnahme der größten Plasma-vWF-Formen in verschiedenen Serienproben; 36 % hatten eine relative Abnahme der größten Plasma-vWF-Formen. Diese Ergebnisse deuten darauf hin, dass während der einzelnen TTP-Episoden bei den meisten Patienten eine Verletzung der Endothelzellen oder eine intensive Stimulation zusammen mit der Anlagerung von ungewöhnlich großen vWF-Multimeren und den größten Plasma-vWF-Formen an Thrombozyten auftrat. Die Muster der vWF-Multimere waren bei 92 % der Patienten mit einer einmaligen TTP-Episode, die nach der Genesung untersucht wurden, normal. Alle acht Patienten mit intermittierender TTP und die vier Patienten mit chronisch rezidivierender TTP wiesen zwischen den Episoden ungewöhnlich große vWF-Multimere in ihrem Plasma auf, die während der Rezidive abnahmen oder verschwanden. Von 26 Kindern und Erwachsenen mit HUS hatten 14 einen relativen Rückgang der größten vWF-Multimere im Plasma und einer hatte ungewöhnlich große vWF-Multimere während der Episode (vWF-Multimere-Anomalien bei 58 % der Patienten). SCHLUSSFOLGERUNG: Es ist wahrscheinlich, dass vWF an der Pathophysiologie der TTP bei den meisten dieser Patienten mit intermittierendem oder chronisch-rezidivierendem TTP-Einzeltyp und bei mehr als 50 % der Patienten mit HUS beteiligt war.'"
      ]
     },
     "execution_count": 18,
     "metadata": {},
     "output_type": "execute_result"
    }
   ],
   "source": [
    "translated_dataset['complex_text_de'][700]"
   ]
  },
  {
   "cell_type": "code",
   "execution_count": 17,
   "id": "a50e0173-79be-4705-a59c-af1ff6be1fa0",
   "metadata": {},
   "outputs": [
    {
     "data": {
      "text/plain": [
       "'Was ist mit dem Blut mancher Menschen los?, Manche Menschen erkranken schwer an einer thrombotischen thrombozytopenischen Purpura (TTP) oder einem hämolytisch-urämischen Syndrom (HUS). Die Ärzte wollen wissen, warum das so ist: Sie nahmen Blutproben von 36 Menschen mit TTP, 8 Menschen mit einer speziellen Art von TTP, die kommt und geht, 4 Menschen mit einer anderen Art von TTP, die immer wieder auftritt, und 26 Menschen mit HUS. Sie untersuchten das Blut, um festzustellen, ob etwas mit dem so genannten von-Willebrand-Faktor (vWF) nicht in Ordnung war. Die meisten Menschen mit einmaliger TTP hatten große Probleme mit dem vWF in ihrem Blut, wenn sie krank wurden. Einige hatten einen sehr hohen vWF-Wert, der eigentlich nicht vorhanden sein sollte, und einige hatten nicht genug von der guten Art von vWF.Aber was ist später? Aber Menschen mit TTP, die kommt und geht oder immer wiederkehrt, hatten ständig Probleme mit hohem vWF. Und was ist mit HUS? Es war, als hätten sie nicht genug von der guten Sorte oder zu viel von der schlechten Sorte.Was bedeutet das?, Es sieht so aus, als könnte vWF eine Rolle dabei spielen, warum manche Menschen TTP oder HUS bekommen. Die Ärzte glauben, dass vielleicht etwas mit der Funktionsweise von vWF im Körper dieser Menschen nicht stimmt.'"
      ]
     },
     "execution_count": 17,
     "metadata": {},
     "output_type": "execute_result"
    }
   ],
   "source": [
    "translated_dataset['simplified_text_de'][700]"
   ]
  },
  {
   "cell_type": "code",
   "execution_count": 19,
   "id": "eefd19c7-56a5-490b-b3ba-35f3b2e51f7e",
   "metadata": {},
   "outputs": [
    {
     "data": {
      "text/plain": [
       "724"
      ]
     },
     "execution_count": 19,
     "metadata": {},
     "output_type": "execute_result"
    }
   ],
   "source": [
    "len(translated_dataset)"
   ]
  },
  {
   "cell_type": "code",
   "execution_count": 24,
   "id": "43037479-0724-4ba7-8a0c-c646477c3b49",
   "metadata": {},
   "outputs": [],
   "source": [
    "# Save the translated dataset to a new CSV file\n",
    "#translated_dataset.to_csv(r'D:\\text simplification\\dataset\\medical data\\simplified_text_med_dataset_cleaned_de.csv', index=False,encoding='utf-8')\n",
    "\n",
    "#print(f\"Translation complete! Translated data saved to {output_csv_path}\")"
   ]
  },
  {
   "cell_type": "code",
   "execution_count": 21,
   "id": "dd7218de-6e86-4ce2-ab7f-feac7e84d14f",
   "metadata": {},
   "outputs": [],
   "source": [
    "output = pd.read_csv(r'D:\\text simplification\\dataset\\medical data\\simplified_text_med_dataset_cleaned_de.csv',sep = ',')\n"
   ]
  },
  {
   "cell_type": "code",
   "execution_count": 22,
   "id": "f96b1525-5393-4f92-a592-757472e15a65",
   "metadata": {},
   "outputs": [
    {
     "data": {
      "text/html": [
       "<div>\n",
       "<style scoped>\n",
       "    .dataframe tbody tr th:only-of-type {\n",
       "        vertical-align: middle;\n",
       "    }\n",
       "\n",
       "    .dataframe tbody tr th {\n",
       "        vertical-align: top;\n",
       "    }\n",
       "\n",
       "    .dataframe thead th {\n",
       "        text-align: right;\n",
       "    }\n",
       "</style>\n",
       "<table border=\"1\" class=\"dataframe\">\n",
       "  <thead>\n",
       "    <tr style=\"text-align: right;\">\n",
       "      <th></th>\n",
       "      <th>complex_text_de</th>\n",
       "      <th>simplified_text_de</th>\n",
       "    </tr>\n",
       "  </thead>\n",
       "  <tbody>\n",
       "    <tr>\n",
       "      <th>719</th>\n",
       "      <td>Schilddrüsenerkrankungen und Schwangerschaft. ...</td>\n",
       "      <td>Schilddrüsenerkrankung und Schwangerschaft, Vi...</td>\n",
       "    </tr>\n",
       "    <tr>\n",
       "      <th>720</th>\n",
       "      <td>Klappenprothesen bei Kindern und Jugendlichen....</td>\n",
       "      <td>Herzklappenprothesen bei Kindern, In diesem Be...</td>\n",
       "    </tr>\n",
       "    <tr>\n",
       "      <th>721</th>\n",
       "      <td>Genauigkeit der Belastungselektrokardiographie...</td>\n",
       "      <td>Ärzte wollen wissen, ob ein Herztest, das so g...</td>\n",
       "    </tr>\n",
       "    <tr>\n",
       "      <th>722</th>\n",
       "      <td>Thallium-Reinjektion nach Stress-Redistributio...</td>\n",
       "      <td>Thallium-Test: Wenn wir einen speziellen Test,...</td>\n",
       "    </tr>\n",
       "    <tr>\n",
       "      <th>723</th>\n",
       "      <td>Klinisch-radiographische und hämodynamische Ko...</td>\n",
       "      <td>Die Ergebnisse: Wir untersuchten 52 Personen m...</td>\n",
       "    </tr>\n",
       "  </tbody>\n",
       "</table>\n",
       "</div>"
      ],
      "text/plain": [
       "                                       complex_text_de  \\\n",
       "719  Schilddrüsenerkrankungen und Schwangerschaft. ...   \n",
       "720  Klappenprothesen bei Kindern und Jugendlichen....   \n",
       "721  Genauigkeit der Belastungselektrokardiographie...   \n",
       "722  Thallium-Reinjektion nach Stress-Redistributio...   \n",
       "723  Klinisch-radiographische und hämodynamische Ko...   \n",
       "\n",
       "                                    simplified_text_de  \n",
       "719  Schilddrüsenerkrankung und Schwangerschaft, Vi...  \n",
       "720  Herzklappenprothesen bei Kindern, In diesem Be...  \n",
       "721  Ärzte wollen wissen, ob ein Herztest, das so g...  \n",
       "722  Thallium-Test: Wenn wir einen speziellen Test,...  \n",
       "723  Die Ergebnisse: Wir untersuchten 52 Personen m...  "
      ]
     },
     "execution_count": 22,
     "metadata": {},
     "output_type": "execute_result"
    }
   ],
   "source": [
    "output.tail()"
   ]
  },
  {
   "cell_type": "code",
   "execution_count": 23,
   "id": "f57a67a5-5bc3-427a-a0fe-de7b94ffee2e",
   "metadata": {},
   "outputs": [
    {
     "data": {
      "text/plain": [
       "724"
      ]
     },
     "execution_count": 23,
     "metadata": {},
     "output_type": "execute_result"
    }
   ],
   "source": [
    "len(output)"
   ]
  },
  {
   "cell_type": "code",
   "execution_count": null,
   "id": "496d3325-8030-478b-b872-06b55b267826",
   "metadata": {},
   "outputs": [],
   "source": [
    "#https://www.daniweb.com/programming/computer-science/tutorials/539041/translating-csv-files-using-deepl-and-pandas-dataframes-in-python"
   ]
  }
 ],
 "metadata": {
  "kernelspec": {
   "display_name": "simplified_dataset",
   "language": "python",
   "name": "simplified_dataset"
  },
  "language_info": {
   "codemirror_mode": {
    "name": "ipython",
    "version": 3
   },
   "file_extension": ".py",
   "mimetype": "text/x-python",
   "name": "python",
   "nbconvert_exporter": "python",
   "pygments_lexer": "ipython3",
   "version": "3.10.15"
  }
 },
 "nbformat": 4,
 "nbformat_minor": 5
}
